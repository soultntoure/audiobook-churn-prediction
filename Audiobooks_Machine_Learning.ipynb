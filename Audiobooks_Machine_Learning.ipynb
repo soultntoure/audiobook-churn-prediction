{
 "cells": [
  {
   "cell_type": "markdown",
   "metadata": {},
   "source": [
    "# Practical example. Audiobooks"
   ]
  },
  {
   "cell_type": "markdown",
   "metadata": {},
   "source": [
    "## Create the machine learning algorithm\n",
    "\n"
   ]
  },
  {
   "cell_type": "markdown",
   "metadata": {},
   "source": [
    "### Import the relevant libraries"
   ]
  },
  {
   "cell_type": "code",
   "execution_count": 4,
   "metadata": {},
   "outputs": [],
   "source": [
    "import numpy as np\n",
    "import tensorflow as tf"
   ]
  },
  {
   "cell_type": "markdown",
   "metadata": {},
   "source": [
    "### Data"
   ]
  },
  {
   "cell_type": "code",
   "execution_count": 5,
   "metadata": {},
   "outputs": [],
   "source": [
    "npz = np.load('Audiobooks_data_train.npz')\n",
    "\n",
    "# we extract the inputs using the keyword under which we saved them\n",
    "# to ensure that they are all floats, let's also take care of that\n",
    "train_inputs = npz['inputs'].astype(float)\n",
    "# targets must be int because of sparse_categorical_crossentropy (we want to be able to smoothly one-hot encode them)\n",
    "train_targets = npz['targets'].astype(int)\n",
    "\n",
    "npz = np.load('Audiobooks_data_validation.npz')\n",
    "validation_inputs, validation_targets = npz['inputs'].astype(float), npz['targets'].astype(int)\n",
    "\n",
    "npz = np.load('Audiobooks_data_test.npz')\n",
    "test_inputs, test_targets = npz['inputs'].astype(float), npz['targets'].astype(int)"
   ]
  },
  {
   "cell_type": "markdown",
   "metadata": {},
   "source": [
    "### Model\n",
    "Outline, optimizers, loss, early stopping and training"
   ]
  },
  {
   "cell_type": "code",
   "execution_count": 7,
   "metadata": {},
   "outputs": [
    {
     "name": "stdout",
     "output_type": "stream",
     "text": [
      "Epoch 1/100\n",
      "36/36 - 3s - loss: 0.5975 - accuracy: 0.7008 - val_loss: 0.5102 - val_accuracy: 0.7562 - 3s/epoch - 72ms/step\n",
      "Epoch 2/100\n",
      "36/36 - 0s - loss: 0.4763 - accuracy: 0.7712 - val_loss: 0.4461 - val_accuracy: 0.7562 - 156ms/epoch - 4ms/step\n",
      "Epoch 3/100\n",
      "36/36 - 0s - loss: 0.4295 - accuracy: 0.7893 - val_loss: 0.4257 - val_accuracy: 0.7696 - 149ms/epoch - 4ms/step\n",
      "Epoch 4/100\n",
      "36/36 - 0s - loss: 0.4055 - accuracy: 0.7974 - val_loss: 0.4081 - val_accuracy: 0.7785 - 159ms/epoch - 4ms/step\n",
      "Epoch 5/100\n",
      "36/36 - 0s - loss: 0.3899 - accuracy: 0.8061 - val_loss: 0.4056 - val_accuracy: 0.7942 - 137ms/epoch - 4ms/step\n",
      "Epoch 6/100\n",
      "36/36 - 0s - loss: 0.3805 - accuracy: 0.8058 - val_loss: 0.4132 - val_accuracy: 0.7740 - 137ms/epoch - 4ms/step\n",
      "Epoch 7/100\n",
      "36/36 - 0s - loss: 0.3771 - accuracy: 0.8030 - val_loss: 0.3950 - val_accuracy: 0.7897 - 132ms/epoch - 4ms/step\n",
      "Epoch 8/100\n",
      "36/36 - 0s - loss: 0.3692 - accuracy: 0.8117 - val_loss: 0.3998 - val_accuracy: 0.7875 - 158ms/epoch - 4ms/step\n",
      "Epoch 9/100\n",
      "36/36 - 0s - loss: 0.3671 - accuracy: 0.8131 - val_loss: 0.3902 - val_accuracy: 0.7942 - 157ms/epoch - 4ms/step\n",
      "Epoch 10/100\n",
      "36/36 - 0s - loss: 0.3617 - accuracy: 0.8148 - val_loss: 0.3887 - val_accuracy: 0.8009 - 143ms/epoch - 4ms/step\n",
      "Epoch 11/100\n",
      "36/36 - 0s - loss: 0.3615 - accuracy: 0.8066 - val_loss: 0.3885 - val_accuracy: 0.8009 - 136ms/epoch - 4ms/step\n",
      "Epoch 12/100\n",
      "36/36 - 0s - loss: 0.3615 - accuracy: 0.8153 - val_loss: 0.3870 - val_accuracy: 0.8054 - 135ms/epoch - 4ms/step\n",
      "Epoch 13/100\n",
      "36/36 - 0s - loss: 0.3576 - accuracy: 0.8150 - val_loss: 0.3837 - val_accuracy: 0.8054 - 138ms/epoch - 4ms/step\n",
      "Epoch 14/100\n",
      "36/36 - 0s - loss: 0.3566 - accuracy: 0.8148 - val_loss: 0.3786 - val_accuracy: 0.8076 - 140ms/epoch - 4ms/step\n",
      "Epoch 15/100\n",
      "36/36 - 0s - loss: 0.3557 - accuracy: 0.8134 - val_loss: 0.3856 - val_accuracy: 0.8009 - 174ms/epoch - 5ms/step\n",
      "Epoch 16/100\n",
      "36/36 - 0s - loss: 0.3571 - accuracy: 0.8117 - val_loss: 0.3904 - val_accuracy: 0.8054 - 183ms/epoch - 5ms/step\n"
     ]
    },
    {
     "data": {
      "text/plain": [
       "<keras.callbacks.History at 0x219ce2106d0>"
      ]
     },
     "execution_count": 7,
     "metadata": {},
     "output_type": "execute_result"
    }
   ],
   "source": [
    "input_size = 10\n",
    "output_size = 2\n",
    "hidden_layer_size = 50\n",
    "    \n",
    "model = tf.keras.Sequential([\n",
    "    tf.keras.layers.Dense(hidden_layer_size, activation='relu'), # 1st hidden layer\n",
    "    tf.keras.layers.Dense(hidden_layer_size, activation='relu'), # 2nd hidden layer\n",
    "    tf.keras.layers.Dense(output_size, activation='softmax') # output layer\n",
    "])\n",
    "\n",
    "\n",
    "model.compile(optimizer='adam', loss='sparse_categorical_crossentropy', metrics=['accuracy'])\n",
    "\n",
    "\n",
    "batch_size = 100\n",
    "\n",
    "# set a maximum number of training epochs\n",
    "max_epochs = 100\n",
    "\n",
    "# set an early stopping mechanism\n",
    "# let's set patience=2, to be a bit tolerant against random validation loss increases\n",
    "early_stopping = tf.keras.callbacks.EarlyStopping(patience=2)\n",
    "\n",
    "model.fit(train_inputs, # train inputs\n",
    "          train_targets, # train targets\n",
    "          batch_size=batch_size, # batch size\n",
    "          epochs=max_epochs, # epochs that we will train for (assuming early stopping doesn't kick in)\n",
    "          # callbacks are functions called by a task when a task is completed\n",
    "          # task here is to check if val_loss is increasing\n",
    "          callbacks=[early_stopping], # early stopping\n",
    "          validation_data=(validation_inputs, validation_targets), \n",
    "          verbose = 2 # making sure we get enough information about the training process\n",
    "          )  "
   ]
  },
  {
   "cell_type": "markdown",
   "metadata": {},
   "source": [
    "### Testing the Model\n",
    "\n"
   ]
  },
  {
   "cell_type": "code",
   "execution_count": null,
   "metadata": {},
   "outputs": [],
   "source": []
  },
  {
   "cell_type": "code",
   "execution_count": 8,
   "metadata": {},
   "outputs": [
    {
     "name": "stdout",
     "output_type": "stream",
     "text": [
      "14/14 [==============================] - 0s 6ms/step - loss: 0.3784 - accuracy: 0.7768\n"
     ]
    }
   ],
   "source": [
    "test_loss , test_accuracy = model.evaluate(test_inputs, test_targets)"
   ]
  },
  {
   "cell_type": "code",
   "execution_count": null,
   "metadata": {},
   "outputs": [],
   "source": []
  }
 ],
 "metadata": {
  "kernelspec": {
   "display_name": "python3-TF2.0",
   "language": "python",
   "name": "python3"
  },
  "language_info": {
   "codemirror_mode": {
    "name": "ipython",
    "version": 3
   },
   "file_extension": ".py",
   "mimetype": "text/x-python",
   "name": "python",
   "nbconvert_exporter": "python",
   "pygments_lexer": "ipython3",
   "version": "3.10.13"
  }
 },
 "nbformat": 4,
 "nbformat_minor": 2
}
